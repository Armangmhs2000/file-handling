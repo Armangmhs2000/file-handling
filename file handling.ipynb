{
 "cells": [
  {
   "cell_type": "code",
   "execution_count": 1,
   "id": "27f6d4ff-b1ae-442e-910f-e76641f1a08d",
   "metadata": {},
   "outputs": [
    {
     "name": "stdout",
     "output_type": "stream",
     "text": [
      "I know that you are strong enough to handle anything.\n"
     ]
    }
   ],
   "source": [
    "#reading text from a file \n",
    "with open('Aruf.txt','r') as file:#the file named aruf will be read.\n",
    "    for line in file:\n",
    "        print(line.strip())\n",
    "#strip() removes whitespace (spaces, tabs \\t, newlines \\n, etc.) from both ends.\n",
    "#lstrip() → removes characters from the left only.\n",
    "#rstrip() → removes characters from the right only."
   ]
  },
  {
   "cell_type": "code",
   "execution_count": 2,
   "id": "752b324c-dab3-4de5-8d0d-c467fde72b21",
   "metadata": {},
   "outputs": [],
   "source": [
    "lines_to_write=['I know that you are strong enough to handle anything.','I keep thinking that did i do anything wrong to you?']"
   ]
  },
  {
   "cell_type": "code",
   "execution_count": 4,
   "id": "19ab28bb-bed6-4e3e-bba3-0dc9a1eb8b45",
   "metadata": {},
   "outputs": [],
   "source": [
    "with open('Aruf1.txt','w') as file:\n",
    "    for line in lines_to_write:\n",
    "        file.write(line + '\\n')\n",
    "#a new file will be created named aruf1 with those lines which have been mentioned in lines_to_write variable.\n",
    "#\\n represents the new line will be generated in every line"
   ]
  },
  {
   "cell_type": "code",
   "execution_count": 5,
   "id": "f9b86863-9dea-415f-9f58-6829209cffff",
   "metadata": {},
   "outputs": [],
   "source": [
    "#appending text to an existing file\n",
    "new_text=['Am I the reason behind your sadness or mental pressure','Do you believe me?']"
   ]
  },
  {
   "cell_type": "code",
   "execution_count": 6,
   "id": "2eb5e4ae-2b0e-44b6-832f-33268fa61218",
   "metadata": {},
   "outputs": [],
   "source": [
    "with open('Aruf1.txt','a') as file:\n",
    "    for line in new_text:\n",
    "        file.write(line+'\\n')\n",
    "#new line will be added to existing file using append(a)"
   ]
  }
 ],
 "metadata": {
  "kernelspec": {
   "display_name": "Python 3 (ipykernel)",
   "language": "python",
   "name": "python3"
  },
  "language_info": {
   "codemirror_mode": {
    "name": "ipython",
    "version": 3
   },
   "file_extension": ".py",
   "mimetype": "text/x-python",
   "name": "python",
   "nbconvert_exporter": "python",
   "pygments_lexer": "ipython3",
   "version": "3.13.7"
  }
 },
 "nbformat": 4,
 "nbformat_minor": 5
}
